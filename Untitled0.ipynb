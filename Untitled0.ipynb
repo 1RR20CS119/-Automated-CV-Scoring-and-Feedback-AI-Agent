{
  "nbformat": 4,
  "nbformat_minor": 0,
  "metadata": {
    "colab": {
      "provenance": [],
      "mount_file_id": "1gj_uHyN7bM1BKp1L12OYBy3MP-2LQfQK",
      "authorship_tag": "ABX9TyML7vTx4ljvfpPa3+qsgZWn",
      "include_colab_link": true
    },
    "kernelspec": {
      "name": "python3",
      "display_name": "Python 3"
    },
    "language_info": {
      "name": "python"
    }
  },
  "cells": [
    {
      "cell_type": "markdown",
      "metadata": {
        "id": "view-in-github",
        "colab_type": "text"
      },
      "source": [
        "<a href=\"https://colab.research.google.com/github/1RR20CS119/-Automated-CV-Scoring-and-Feedback-AI-Agent/blob/main/Untitled0.ipynb\" target=\"_parent\"><img src=\"https://colab.research.google.com/assets/colab-badge.svg\" alt=\"Open In Colab\"/></a>"
      ]
    },
    {
      "cell_type": "code",
      "execution_count": 1,
      "metadata": {
        "colab": {
          "base_uri": "https://localhost:8080/"
        },
        "id": "NxJy1HrzZZQl",
        "outputId": "1df52ccc-e57f-4dd3-b48e-b4706ce7500e"
      },
      "outputs": [
        {
          "output_type": "stream",
          "name": "stdout",
          "text": [
            "Collecting python-docx\n",
            "  Downloading python_docx-1.1.2-py3-none-any.whl.metadata (2.0 kB)\n",
            "Collecting pymupdf\n",
            "  Downloading pymupdf-1.25.5-cp39-abi3-manylinux2014_x86_64.manylinux_2_17_x86_64.whl.metadata (3.4 kB)\n",
            "Collecting watchdog\n",
            "  Downloading watchdog-6.0.0-py3-none-manylinux2014_x86_64.whl.metadata (44 kB)\n",
            "\u001b[2K     \u001b[90m━━━━━━━━━━━━━━━━━━━━━━━━━━━━━━━━━━━━━━━━\u001b[0m \u001b[32m44.3/44.3 kB\u001b[0m \u001b[31m1.2 MB/s\u001b[0m eta \u001b[36m0:00:00\u001b[0m\n",
            "\u001b[?25hRequirement already satisfied: lxml>=3.1.0 in /usr/local/lib/python3.11/dist-packages (from python-docx) (5.3.2)\n",
            "Requirement already satisfied: typing-extensions>=4.9.0 in /usr/local/lib/python3.11/dist-packages (from python-docx) (4.13.1)\n",
            "Downloading python_docx-1.1.2-py3-none-any.whl (244 kB)\n",
            "\u001b[2K   \u001b[90m━━━━━━━━━━━━━━━━━━━━━━━━━━━━━━━━━━━━━━━━\u001b[0m \u001b[32m244.3/244.3 kB\u001b[0m \u001b[31m7.5 MB/s\u001b[0m eta \u001b[36m0:00:00\u001b[0m\n",
            "\u001b[?25hDownloading pymupdf-1.25.5-cp39-abi3-manylinux2014_x86_64.manylinux_2_17_x86_64.whl (20.0 MB)\n",
            "\u001b[2K   \u001b[90m━━━━━━━━━━━━━━━━━━━━━━━━━━━━━━━━━━━━━━━━\u001b[0m \u001b[32m20.0/20.0 MB\u001b[0m \u001b[31m19.5 MB/s\u001b[0m eta \u001b[36m0:00:00\u001b[0m\n",
            "\u001b[?25hDownloading watchdog-6.0.0-py3-none-manylinux2014_x86_64.whl (79 kB)\n",
            "\u001b[2K   \u001b[90m━━━━━━━━━━━━━━━━━━━━━━━━━━━━━━━━━━━━━━━━\u001b[0m \u001b[32m79.1/79.1 kB\u001b[0m \u001b[31m679.4 kB/s\u001b[0m eta \u001b[36m0:00:00\u001b[0m\n",
            "\u001b[?25hInstalling collected packages: watchdog, python-docx, pymupdf\n",
            "Successfully installed pymupdf-1.25.5 python-docx-1.1.2 watchdog-6.0.0\n"
          ]
        }
      ],
      "source": [
        "pip install python-docx pymupdf watchdog"
      ]
    },
    {
      "cell_type": "code",
      "source": [
        "import os\n",
        "\n",
        "def collect_resumes(folder_path):\n",
        "    return [f for f in os.listdir(folder_path) if f.endswith(('.pdf', '.docx'))]\n"
      ],
      "metadata": {
        "id": "NAoDqS2kbXLo"
      },
      "execution_count": 3,
      "outputs": []
    },
    {
      "cell_type": "code",
      "source": [
        "from docx import Document\n",
        "import fitz  # PyMuPDF\n",
        "\n",
        "def extract_text(filepath):\n",
        "    if filepath.endswith('.docx'):\n",
        "        doc = Document(filepath)\n",
        "        return \"\\n\".join([p.text for p in doc.paragraphs])\n",
        "    elif filepath.endswith('.pdf'):\n",
        "        text = \"\"\n",
        "        with fitz.open(filepath) as doc:\n",
        "            for page in doc:\n",
        "                text += page.get_text()\n",
        "        return text\n"
      ],
      "metadata": {
        "id": "8TCy-xAjboi7"
      },
      "execution_count": 4,
      "outputs": []
    },
    {
      "cell_type": "code",
      "source": [
        "def score_resume(text):\n",
        "    score = 0\n",
        "    feedback = []\n",
        "\n",
        "    if \"python\" in text.lower():\n",
        "        score += 10\n",
        "        feedback.append(\"✅ Strong Python experience.\")\n",
        "    else:\n",
        "        feedback.append(\"❌ Python not found. Consider learning it.\")\n",
        "\n",
        "    if \"machine learning\" in text.lower():\n",
        "        score += 15\n",
        "        feedback.append(\"✅ Machine learning experience detected.\")\n",
        "\n",
        "    if \"5 years\" in text.lower():\n",
        "        score += 5\n",
        "        feedback.append(\"✅ Good experience duration.\")\n",
        "\n",
        "    return score, feedback\n"
      ],
      "metadata": {
        "id": "UeaEjxfIb6QI"
      },
      "execution_count": 5,
      "outputs": []
    },
    {
      "cell_type": "code",
      "source": [
        "import re\n",
        "\n",
        "def extract_email(text):\n",
        "    match = re.search(r'[\\w\\.-]+@[\\w\\.-]+', text)\n",
        "    return match.group(0) if match else \"no-email@example.com\"\n",
        "\n",
        "def extract_name(text):\n",
        "    # Placeholder: Assume name is in first line\n",
        "    lines = text.splitlines()\n",
        "    return lines[0].strip() if lines else \"Candidate\"\n"
      ],
      "metadata": {
        "id": "3IdzaQpCcENI"
      },
      "execution_count": 6,
      "outputs": []
    },
    {
      "cell_type": "code",
      "source": [
        "def send_email(to_email, name, score, feedback):\n",
        "    body = f\"\"\"\n",
        "Hi {name},\n",
        "\n",
        "Thanks for submitting your resume.\n",
        "\n",
        "📝 Your Score: {score}/10\n",
        "\n",
        "📌 Feedback:\n",
        "{chr(10).join(feedback)}\n",
        "\n",
        "All The Best!\n",
        "- AI Resume Bot\n",
        "\"\"\"\n",
        "    print(\"========== Email Preview ==========\")\n",
        "    print(f\"To: {to_email}\")\n",
        "    print(f\"Subject: Your Resume Score & Feedback\")\n",
        "    print(body)\n",
        "    print(\"===================================\")\n"
      ],
      "metadata": {
        "id": "yHEwiqkxcXeP"
      },
      "execution_count": 14,
      "outputs": []
    },
    {
      "cell_type": "code",
      "source": [
        "def run_resume_agent(folder_path):\n",
        "    resumes = collect_resumes(folder_path)\n",
        "    for resume in resumes:\n",
        "        path = os.path.join(folder_path, resume)\n",
        "        text = extract_text(path)\n",
        "        score, feedback = score_resume(text)\n",
        "        email = extract_email(text)\n",
        "        name = extract_name(text)\n",
        "        send_email(email, name, score, feedback)\n"
      ],
      "metadata": {
        "id": "FiO5pBM3cus0"
      },
      "execution_count": 10,
      "outputs": []
    },
    {
      "cell_type": "code",
      "source": [
        "if __name__ == \"__main__\":\n",
        "    folder_path = \"/content/drive/MyDrive/Smita\"  # Path to your resume folder\n",
        "    run_resume_agent(folder_path)\n"
      ],
      "metadata": {
        "colab": {
          "base_uri": "https://localhost:8080/"
        },
        "id": "3hRWDbgjc6hJ",
        "outputId": "143e83e1-48ad-494c-95e4-75833370c57b"
      },
      "execution_count": 15,
      "outputs": [
        {
          "output_type": "stream",
          "name": "stdout",
          "text": [
            "========== Email Preview ==========\n",
            "To: smita40321@gmail.com\n",
            "Subject: Your Resume Score & Feedback\n",
            "\n",
            "Hi Smita Rani,\n",
            "\n",
            "Thanks for submitting your resume.\n",
            "\n",
            "📝 Your Score: 10/10\n",
            "\n",
            "📌 Feedback:\n",
            "✅ Strong Python experience.\n",
            "\n",
            "All The Best!\n",
            "- AI Resume Bot\n",
            "\n",
            "===================================\n",
            "========== Email Preview ==========\n",
            "To: smita40321@gmail.com\n",
            "Subject: Your Resume Score & Feedback\n",
            "\n",
            "Hi Smita Rani,\n",
            "\n",
            "Thanks for submitting your resume.\n",
            "\n",
            "📝 Your Score: 10/10\n",
            "\n",
            "📌 Feedback:\n",
            "✅ Strong Python experience.\n",
            "\n",
            "All The Best!\n",
            "- AI Resume Bot\n",
            "\n",
            "===================================\n",
            "========== Email Preview ==========\n",
            "To: smita40321@gmail.com\n",
            "Subject: Your Resume Score & Feedback\n",
            "\n",
            "Hi Smita Rani,\n",
            "\n",
            "Thanks for submitting your resume.\n",
            "\n",
            "📝 Your Score: 10/10\n",
            "\n",
            "📌 Feedback:\n",
            "✅ Strong Python experience.\n",
            "\n",
            "All The Best!\n",
            "- AI Resume Bot\n",
            "\n",
            "===================================\n",
            "========== Email Preview ==========\n",
            "To: smita40321@gmail.com\n",
            "Subject: Your Resume Score & Feedback\n",
            "\n",
            "Hi Smita Rani,\n",
            "\n",
            "Thanks for submitting your resume.\n",
            "\n",
            "📝 Your Score: 10/10\n",
            "\n",
            "📌 Feedback:\n",
            "✅ Strong Python experience.\n",
            "\n",
            "All The Best!\n",
            "- AI Resume Bot\n",
            "\n",
            "===================================\n"
          ]
        }
      ]
    }
  ]
}